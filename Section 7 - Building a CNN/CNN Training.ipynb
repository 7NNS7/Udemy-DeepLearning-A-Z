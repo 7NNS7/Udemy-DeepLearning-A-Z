{
 "cells": [
  {
   "cell_type": "code",
   "execution_count": 1,
   "id": "4b1ae43c",
   "metadata": {},
   "outputs": [],
   "source": [
    "import tensorflow as tf\n",
    "from tensorflow.keras.preprocessing.image import ImageDataGenerator"
   ]
  },
  {
   "cell_type": "code",
   "execution_count": 2,
   "id": "dc2c9794",
   "metadata": {},
   "outputs": [
    {
     "data": {
      "text/plain": [
       "'2.2.0'"
      ]
     },
     "execution_count": 2,
     "metadata": {},
     "output_type": "execute_result"
    }
   ],
   "source": [
    "tf.__version__"
   ]
  },
  {
   "cell_type": "code",
   "execution_count": 3,
   "id": "6b982fab",
   "metadata": {},
   "outputs": [],
   "source": [
    "train_datagen = ImageDataGenerator(\n",
    "                rescale = 1./255,\n",
    "                shear_range = 0.2,\n",
    "                zoom_range = 0.2,\n",
    "                horizontal_flip = True)"
   ]
  },
  {
   "cell_type": "code",
   "execution_count": 4,
   "id": "b7bc259e",
   "metadata": {},
   "outputs": [
    {
     "name": "stdout",
     "output_type": "stream",
     "text": [
      "Found 8000 images belonging to 2 classes.\n"
     ]
    }
   ],
   "source": [
    "train_dataset = train_datagen.flow_from_directory(\n",
    "                'dataset/training_set',\n",
    "                target_size=(64,64),\n",
    "                batch_size=32,\n",
    "                class_mode='binary')"
   ]
  },
  {
   "cell_type": "code",
   "execution_count": 5,
   "id": "ad822421",
   "metadata": {},
   "outputs": [],
   "source": [
    "test_datagen = ImageDataGenerator(rescale=1./255)"
   ]
  },
  {
   "cell_type": "code",
   "execution_count": 6,
   "id": "00efc810",
   "metadata": {},
   "outputs": [
    {
     "name": "stdout",
     "output_type": "stream",
     "text": [
      "Found 2000 images belonging to 2 classes.\n"
     ]
    }
   ],
   "source": [
    "test_dataset = test_datagen.flow_from_directory(\n",
    "                'dataset/test_set',\n",
    "                target_size=(64,64),\n",
    "                batch_size=32,\n",
    "                class_mode='binary')"
   ]
  },
  {
   "cell_type": "code",
   "execution_count": 7,
   "id": "85ca3a29",
   "metadata": {},
   "outputs": [],
   "source": [
    "#Building the CNN\n",
    "cnn = tf.keras.models.Sequential()"
   ]
  },
  {
   "cell_type": "code",
   "execution_count": 8,
   "id": "a50c0112",
   "metadata": {},
   "outputs": [],
   "source": [
    "#Add convlutional layer\n",
    "cnn.add(tf.keras.layers.Conv2D(filters = 32, kernel_size = 3,activation = 'relu',input_shape = [64,64,3]))"
   ]
  },
  {
   "cell_type": "code",
   "execution_count": 9,
   "id": "70d742a8",
   "metadata": {},
   "outputs": [],
   "source": [
    "#Adding Pool layer\n",
    "cnn.add(tf.keras.layers.MaxPool2D(pool_size = 2,strides = 2))"
   ]
  },
  {
   "cell_type": "code",
   "execution_count": 10,
   "id": "a2a0bb5d",
   "metadata": {},
   "outputs": [],
   "source": [
    "#Add another set of conv and pool layers\n",
    "cnn.add(tf.keras.layers.Conv2D(filters = 32, kernel_size = 2, activation = 'relu'))\n",
    "cnn.add(tf.keras.layers.MaxPool2D(pool_size = 2,strides = 2))"
   ]
  },
  {
   "cell_type": "code",
   "execution_count": 12,
   "id": "f477a81d",
   "metadata": {},
   "outputs": [],
   "source": [
    "#Flatten the layer\n",
    "cnn.add(tf.keras.layers.Flatten())"
   ]
  },
  {
   "cell_type": "code",
   "execution_count": 13,
   "id": "02c267aa",
   "metadata": {},
   "outputs": [],
   "source": [
    "#Flatten the layer\n",
    "cnn.add(tf.keras.layers.Dense(units = 128,activation = 'relu'))"
   ]
  },
  {
   "cell_type": "code",
   "execution_count": 14,
   "id": "791e09eb",
   "metadata": {},
   "outputs": [],
   "source": [
    "#Add Output layer\n",
    "cnn.add(tf.keras.layers.Dense(units = 1, activation = 'sigmoid'))"
   ]
  },
  {
   "cell_type": "code",
   "execution_count": 15,
   "id": "7a04134e",
   "metadata": {},
   "outputs": [],
   "source": [
    "#Compile the model\n",
    "cnn.compile(optimizer = 'adam',loss='binary_crossentropy',metrics=['accuracy'])"
   ]
  },
  {
   "cell_type": "code",
   "execution_count": 16,
   "id": "dbfba175",
   "metadata": {},
   "outputs": [
    {
     "name": "stdout",
     "output_type": "stream",
     "text": [
      "Epoch 1/25\n",
      "250/250 [==============================] - 96s 385ms/step - loss: 0.6689 - accuracy: 0.5895 - val_loss: 0.6453 - val_accuracy: 0.6090\n",
      "Epoch 2/25\n",
      "250/250 [==============================] - 86s 343ms/step - loss: 0.5922 - accuracy: 0.6851 - val_loss: 0.5803 - val_accuracy: 0.7010\n",
      "Epoch 3/25\n",
      "250/250 [==============================] - 86s 345ms/step - loss: 0.5627 - accuracy: 0.7143 - val_loss: 0.5797 - val_accuracy: 0.7035\n",
      "Epoch 4/25\n",
      "250/250 [==============================] - 47s 188ms/step - loss: 0.5313 - accuracy: 0.7347 - val_loss: 0.5353 - val_accuracy: 0.7285\n",
      "Epoch 5/25\n",
      "250/250 [==============================] - 42s 168ms/step - loss: 0.5085 - accuracy: 0.7520 - val_loss: 0.5469 - val_accuracy: 0.7215\n",
      "Epoch 6/25\n",
      "250/250 [==============================] - 83s 332ms/step - loss: 0.4952 - accuracy: 0.7555 - val_loss: 0.5052 - val_accuracy: 0.7590\n",
      "Epoch 7/25\n",
      "250/250 [==============================] - 82s 329ms/step - loss: 0.4715 - accuracy: 0.7750 - val_loss: 0.4826 - val_accuracy: 0.7730\n",
      "Epoch 8/25\n",
      "250/250 [==============================] - 72s 288ms/step - loss: 0.4641 - accuracy: 0.7786 - val_loss: 0.4828 - val_accuracy: 0.7705\n",
      "Epoch 9/25\n",
      "250/250 [==============================] - 71s 285ms/step - loss: 0.4546 - accuracy: 0.7891 - val_loss: 0.4752 - val_accuracy: 0.7800\n",
      "Epoch 10/25\n",
      "250/250 [==============================] - 88s 352ms/step - loss: 0.4374 - accuracy: 0.7940 - val_loss: 0.5447 - val_accuracy: 0.7590\n",
      "Epoch 11/25\n",
      "250/250 [==============================] - 91s 366ms/step - loss: 0.4359 - accuracy: 0.7989 - val_loss: 0.4527 - val_accuracy: 0.7965\n",
      "Epoch 12/25\n",
      "250/250 [==============================] - 100s 402ms/step - loss: 0.4244 - accuracy: 0.8041 - val_loss: 0.4814 - val_accuracy: 0.7680\n",
      "Epoch 13/25\n",
      "250/250 [==============================] - 91s 364ms/step - loss: 0.4144 - accuracy: 0.8058 - val_loss: 0.4825 - val_accuracy: 0.7735\n",
      "Epoch 14/25\n",
      "250/250 [==============================] - 87s 349ms/step - loss: 0.4193 - accuracy: 0.8077 - val_loss: 0.4509 - val_accuracy: 0.7960\n",
      "Epoch 15/25\n",
      "250/250 [==============================] - 88s 351ms/step - loss: 0.3966 - accuracy: 0.8129 - val_loss: 0.4630 - val_accuracy: 0.7900\n",
      "Epoch 16/25\n",
      "250/250 [==============================] - 90s 358ms/step - loss: 0.3956 - accuracy: 0.8126 - val_loss: 0.4484 - val_accuracy: 0.7975\n",
      "Epoch 17/25\n",
      "250/250 [==============================] - 86s 345ms/step - loss: 0.3896 - accuracy: 0.8207 - val_loss: 0.4489 - val_accuracy: 0.8035\n",
      "Epoch 18/25\n",
      "250/250 [==============================] - 94s 375ms/step - loss: 0.3827 - accuracy: 0.8305 - val_loss: 0.4778 - val_accuracy: 0.7895\n",
      "Epoch 19/25\n",
      "250/250 [==============================] - 94s 376ms/step - loss: 0.3805 - accuracy: 0.8236 - val_loss: 0.5108 - val_accuracy: 0.7760\n",
      "Epoch 20/25\n",
      "250/250 [==============================] - 73s 293ms/step - loss: 0.3671 - accuracy: 0.8372 - val_loss: 0.4640 - val_accuracy: 0.7985\n",
      "Epoch 21/25\n",
      "250/250 [==============================] - 44s 178ms/step - loss: 0.3649 - accuracy: 0.8313 - val_loss: 0.4927 - val_accuracy: 0.7870\n",
      "Epoch 22/25\n",
      "250/250 [==============================] - 65s 261ms/step - loss: 0.3503 - accuracy: 0.8446 - val_loss: 0.5741 - val_accuracy: 0.7560\n",
      "Epoch 23/25\n",
      "250/250 [==============================] - 93s 370ms/step - loss: 0.3450 - accuracy: 0.8469 - val_loss: 0.4717 - val_accuracy: 0.7845\n",
      "Epoch 24/25\n",
      "250/250 [==============================] - 85s 340ms/step - loss: 0.3470 - accuracy: 0.8447 - val_loss: 0.5086 - val_accuracy: 0.7740\n",
      "Epoch 25/25\n",
      "250/250 [==============================] - 86s 343ms/step - loss: 0.3279 - accuracy: 0.8561 - val_loss: 0.4629 - val_accuracy: 0.8050\n"
     ]
    },
    {
     "data": {
      "text/plain": [
       "<tensorflow.python.keras.callbacks.History at 0x7fa0effe5610>"
      ]
     },
     "execution_count": 16,
     "metadata": {},
     "output_type": "execute_result"
    }
   ],
   "source": [
    "#Train the model\n",
    "cnn.fit(x = train_dataset,validation_data=test_dataset,epochs=25)"
   ]
  },
  {
   "cell_type": "code",
   "execution_count": 54,
   "id": "f421fe9e",
   "metadata": {},
   "outputs": [],
   "source": [
    "#Make single predictions\n",
    "\n",
    "import numpy as np\n",
    "from tensorflow.keras.preprocessing import image\n",
    "#path = 'dog.4001.jpg'\n",
    "path = 'dog1.jpeg'\n",
    "test_image = image.load_img(path,target_size=(64,64)) #Reshape image to 64x64\n",
    "test_image = image.img_to_array(test_image) #Convert image to array (flatten)\n",
    "test_image = np.expand_dims(test_image,axis = 0) #Because we trained in batches\n",
    "#train_dataset.class_indices"
   ]
  },
  {
   "cell_type": "code",
   "execution_count": 55,
   "id": "812d951b",
   "metadata": {},
   "outputs": [
    {
     "name": "stdout",
     "output_type": "stream",
     "text": [
      "Dog\n"
     ]
    }
   ],
   "source": [
    "result = cnn.predict(test_image/255.0)\n",
    "\n",
    "if result[0][0]>0.5: #If the probability is greater that 0.5\n",
    "    print(\"Dog\")\n",
    "else:\n",
    "    print(\"Cat\")"
   ]
  }
 ],
 "metadata": {
  "kernelspec": {
   "display_name": "Python 3",
   "language": "python",
   "name": "python3"
  },
  "language_info": {
   "codemirror_mode": {
    "name": "ipython",
    "version": 3
   },
   "file_extension": ".py",
   "mimetype": "text/x-python",
   "name": "python",
   "nbconvert_exporter": "python",
   "pygments_lexer": "ipython3",
   "version": "3.8.3"
  }
 },
 "nbformat": 4,
 "nbformat_minor": 5
}
