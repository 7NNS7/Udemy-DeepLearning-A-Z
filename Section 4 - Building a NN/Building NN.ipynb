{
 "cells": [
  {
   "cell_type": "markdown",
   "metadata": {
    "colab_type": "text",
    "id": "lP6JLo1tGNBg"
   },
   "source": [
    "# Artificial Neural Network"
   ]
  },
  {
   "cell_type": "markdown",
   "metadata": {
    "colab_type": "text",
    "id": "gWZyYmS_UE_L"
   },
   "source": [
    "### Importing the libraries"
   ]
  },
  {
   "cell_type": "code",
   "execution_count": 1,
   "metadata": {},
   "outputs": [],
   "source": [
    "import numpy as np\n",
    "import pandas as pd\n",
    "import tensorflow as tf"
   ]
  },
  {
   "cell_type": "code",
   "execution_count": 2,
   "metadata": {},
   "outputs": [
    {
     "data": {
      "text/plain": [
       "'2.2.0'"
      ]
     },
     "execution_count": 2,
     "metadata": {},
     "output_type": "execute_result"
    }
   ],
   "source": [
    "tf.__version__"
   ]
  },
  {
   "cell_type": "markdown",
   "metadata": {
    "colab_type": "text",
    "id": "1E0Q3aoKUCRX"
   },
   "source": [
    "## Part 1 - Data Preprocessing"
   ]
  },
  {
   "cell_type": "markdown",
   "metadata": {
    "colab_type": "text",
    "id": "cKWAkFVGUU0Z"
   },
   "source": [
    "### Importing the dataset"
   ]
  },
  {
   "cell_type": "code",
   "execution_count": 18,
   "metadata": {},
   "outputs": [],
   "source": [
    "dataset = pd.read_csv('Churn_Modelling.csv')\n",
    "X = dataset.iloc[:, 3:-1].values\n",
    "y = dataset.iloc[:, -1].values"
   ]
  },
  {
   "cell_type": "code",
   "execution_count": 19,
   "metadata": {},
   "outputs": [
    {
     "data": {
      "text/plain": [
       "array([[619, 'France', 'Female', ..., 1, 1, 101348.88],\n",
       "       [608, 'Spain', 'Female', ..., 0, 1, 112542.58],\n",
       "       [502, 'France', 'Female', ..., 1, 0, 113931.57],\n",
       "       ...,\n",
       "       [709, 'France', 'Female', ..., 0, 1, 42085.58],\n",
       "       [772, 'Germany', 'Male', ..., 1, 0, 92888.52],\n",
       "       [792, 'France', 'Female', ..., 1, 0, 38190.78]], dtype=object)"
      ]
     },
     "execution_count": 19,
     "metadata": {},
     "output_type": "execute_result"
    }
   ],
   "source": [
    "X"
   ]
  },
  {
   "cell_type": "code",
   "execution_count": 20,
   "metadata": {},
   "outputs": [
    {
     "data": {
      "text/plain": [
       "array([1, 0, 1, ..., 1, 1, 0])"
      ]
     },
     "execution_count": 20,
     "metadata": {},
     "output_type": "execute_result"
    }
   ],
   "source": [
    "y"
   ]
  },
  {
   "cell_type": "markdown",
   "metadata": {
    "colab_type": "text",
    "id": "N6bQ0UgSU-NJ"
   },
   "source": [
    "### Encoding categorical data"
   ]
  },
  {
   "cell_type": "markdown",
   "metadata": {
    "colab_type": "text",
    "id": "le5MJreAbW52"
   },
   "source": [
    "Label Encoding the \"Gender\" column"
   ]
  },
  {
   "cell_type": "code",
   "execution_count": 21,
   "metadata": {},
   "outputs": [],
   "source": [
    "from sklearn.preprocessing import LabelEncoder\n",
    "le = LabelEncoder()\n",
    "X[:,2] = le.fit_transform(X[:,2])"
   ]
  },
  {
   "cell_type": "code",
   "execution_count": 22,
   "metadata": {},
   "outputs": [
    {
     "data": {
      "text/plain": [
       "array([0, 0, 0, ..., 0, 1, 0], dtype=object)"
      ]
     },
     "execution_count": 22,
     "metadata": {},
     "output_type": "execute_result"
    }
   ],
   "source": [
    "X[:,2]"
   ]
  },
  {
   "cell_type": "markdown",
   "metadata": {
    "colab_type": "text",
    "id": "CUxGZezpbMcb"
   },
   "source": [
    "One Hot Encoding the \"Geography\" column"
   ]
  },
  {
   "cell_type": "code",
   "execution_count": 23,
   "metadata": {},
   "outputs": [],
   "source": [
    "from sklearn.compose import ColumnTransformer\n",
    "from sklearn.preprocessing import OneHotEncoder\n",
    "ct = ColumnTransformer(transformers=[('encoder',OneHotEncoder(),[1])],remainder='passthrough')\n",
    "# You just have to change the index to which you want to one hot encode.\n",
    "X = np.array(ct.fit_transform(X)) "
   ]
  },
  {
   "cell_type": "markdown",
   "metadata": {
    "colab_type": "text",
    "id": "vHol938cW8zd"
   },
   "source": [
    "### Splitting the dataset into the Training set and Test set"
   ]
  },
  {
   "cell_type": "code",
   "execution_count": 24,
   "metadata": {},
   "outputs": [],
   "source": [
    "from sklearn.model_selection import train_test_split\n",
    "X_train, X_test, y_train, y_test = train_test_split(X,y,test_size=0.2,random_state = 0)"
   ]
  },
  {
   "cell_type": "markdown",
   "metadata": {
    "colab_type": "text",
    "id": "RE_FcHyfV3TQ"
   },
   "source": [
    "### Feature Scaling"
   ]
  },
  {
   "cell_type": "code",
   "execution_count": 25,
   "metadata": {},
   "outputs": [],
   "source": [
    "from sklearn.preprocessing import StandardScaler\n",
    "sc = StandardScaler()\n",
    "X_train = sc.fit_transform(X_train)\n",
    "X_test = sc.fit_transform(X_test)"
   ]
  },
  {
   "cell_type": "markdown",
   "metadata": {
    "colab_type": "text",
    "id": "-zfEzkRVXIwF"
   },
   "source": [
    "## Part 2 - Building the ANN"
   ]
  },
  {
   "cell_type": "markdown",
   "metadata": {
    "colab_type": "text",
    "id": "KvdeScabXtlB"
   },
   "source": [
    "### Initializing the ANN"
   ]
  },
  {
   "cell_type": "code",
   "execution_count": 30,
   "metadata": {},
   "outputs": [],
   "source": [
    "model = tf.keras.models.Sequential()"
   ]
  },
  {
   "cell_type": "markdown",
   "metadata": {
    "colab_type": "text",
    "id": "rP6urV6SX7kS"
   },
   "source": [
    "### Adding the input layer and the first hidden layer"
   ]
  },
  {
   "cell_type": "code",
   "execution_count": 40,
   "metadata": {},
   "outputs": [],
   "source": [
    "model.add(tf.keras.layers.Dense(units = 10,activation = 'relu'))"
   ]
  },
  {
   "cell_type": "markdown",
   "metadata": {
    "colab_type": "text",
    "id": "BELWAc_8YJze"
   },
   "source": [
    "### Adding the second hidden layer"
   ]
  },
  {
   "cell_type": "code",
   "execution_count": 41,
   "metadata": {},
   "outputs": [],
   "source": [
    "model.add(tf.keras.layers.Dense(units = 10,activation = 'relu'))"
   ]
  },
  {
   "cell_type": "markdown",
   "metadata": {
    "colab_type": "text",
    "id": "OyNEe6RXYcU4"
   },
   "source": [
    "### Adding the output layer"
   ]
  },
  {
   "cell_type": "code",
   "execution_count": 42,
   "metadata": {},
   "outputs": [],
   "source": [
    "model.add(tf.keras.layers.Dense(units =1,activation = 'sigmoid'))"
   ]
  },
  {
   "cell_type": "markdown",
   "metadata": {
    "colab_type": "text",
    "id": "JT4u2S1_Y4WG"
   },
   "source": [
    "## Part 3 - Training the ANN"
   ]
  },
  {
   "cell_type": "markdown",
   "metadata": {
    "colab_type": "text",
    "id": "8GWlJChhY_ZI"
   },
   "source": [
    "### Compiling the ANN"
   ]
  },
  {
   "cell_type": "code",
   "execution_count": 43,
   "metadata": {},
   "outputs": [],
   "source": [
    "model.compile(optimizer='adam',loss= 'binary_crossentropy',metrics=['accuracy'])"
   ]
  },
  {
   "cell_type": "markdown",
   "metadata": {
    "colab_type": "text",
    "id": "0QR_G5u7ZLSM"
   },
   "source": [
    "### Training the ANN on the Training set"
   ]
  },
  {
   "cell_type": "code",
   "execution_count": 44,
   "metadata": {},
   "outputs": [
    {
     "name": "stdout",
     "output_type": "stream",
     "text": [
      "Epoch 1/80\n",
      "250/250 [==============================] - 2s 8ms/step - loss: 0.5675 - accuracy: 0.7943\n",
      "Epoch 2/80\n",
      "250/250 [==============================] - 2s 9ms/step - loss: 0.4698 - accuracy: 0.7960\n",
      "Epoch 3/80\n",
      "250/250 [==============================] - 2s 7ms/step - loss: 0.4484 - accuracy: 0.7960\n",
      "Epoch 4/80\n",
      "250/250 [==============================] - 1s 6ms/step - loss: 0.4366 - accuracy: 0.8152\n",
      "Epoch 5/80\n",
      "250/250 [==============================] - 1s 6ms/step - loss: 0.4295 - accuracy: 0.8307\n",
      "Epoch 6/80\n",
      "250/250 [==============================] - 2s 6ms/step - loss: 0.4249 - accuracy: 0.8328\n",
      "Epoch 7/80\n",
      "250/250 [==============================] - 2s 7ms/step - loss: 0.4215 - accuracy: 0.8366\n",
      "Epoch 8/80\n",
      "250/250 [==============================] - 2s 6ms/step - loss: 0.4186 - accuracy: 0.8363\n",
      "Epoch 9/80\n",
      "250/250 [==============================] - 1s 6ms/step - loss: 0.4167 - accuracy: 0.8372\n",
      "Epoch 10/80\n",
      "250/250 [==============================] - 2s 7ms/step - loss: 0.4152 - accuracy: 0.8386\n",
      "Epoch 11/80\n",
      "250/250 [==============================] - 2s 8ms/step - loss: 0.4137 - accuracy: 0.8370\n",
      "Epoch 12/80\n",
      "250/250 [==============================] - 1s 6ms/step - loss: 0.4126 - accuracy: 0.8397\n",
      "Epoch 13/80\n",
      "250/250 [==============================] - 2s 8ms/step - loss: 0.4122 - accuracy: 0.8386\n",
      "Epoch 14/80\n",
      "250/250 [==============================] - 2s 7ms/step - loss: 0.4110 - accuracy: 0.8411\n",
      "Epoch 15/80\n",
      "250/250 [==============================] - 2s 7ms/step - loss: 0.4108 - accuracy: 0.8382\n",
      "Epoch 16/80\n",
      "250/250 [==============================] - 2s 7ms/step - loss: 0.4106 - accuracy: 0.8399\n",
      "Epoch 17/80\n",
      "250/250 [==============================] - 2s 7ms/step - loss: 0.4098 - accuracy: 0.8416\n",
      "Epoch 18/80\n",
      "250/250 [==============================] - 2s 7ms/step - loss: 0.4099 - accuracy: 0.8386\n",
      "Epoch 19/80\n",
      "250/250 [==============================] - 2s 7ms/step - loss: 0.4094 - accuracy: 0.8388\n",
      "Epoch 20/80\n",
      "250/250 [==============================] - 2s 7ms/step - loss: 0.4088 - accuracy: 0.8396\n",
      "Epoch 21/80\n",
      "250/250 [==============================] - 2s 8ms/step - loss: 0.4087 - accuracy: 0.8403\n",
      "Epoch 22/80\n",
      "250/250 [==============================] - 2s 7ms/step - loss: 0.4078 - accuracy: 0.8399\n",
      "Epoch 23/80\n",
      "250/250 [==============================] - 2s 7ms/step - loss: 0.4070 - accuracy: 0.8406\n",
      "Epoch 24/80\n",
      "250/250 [==============================] - 2s 7ms/step - loss: 0.4078 - accuracy: 0.8403\n",
      "Epoch 25/80\n",
      "250/250 [==============================] - 2s 7ms/step - loss: 0.4064 - accuracy: 0.8425\n",
      "Epoch 26/80\n",
      "250/250 [==============================] - 2s 8ms/step - loss: 0.4069 - accuracy: 0.8405\n",
      "Epoch 27/80\n",
      "250/250 [==============================] - 2s 8ms/step - loss: 0.4064 - accuracy: 0.8405\n",
      "Epoch 28/80\n",
      "250/250 [==============================] - 2s 7ms/step - loss: 0.4069 - accuracy: 0.8397\n",
      "Epoch 29/80\n",
      "250/250 [==============================] - 2s 9ms/step - loss: 0.4063 - accuracy: 0.8403\n",
      "Epoch 30/80\n",
      "250/250 [==============================] - 2s 10ms/step - loss: 0.4058 - accuracy: 0.8407\n",
      "Epoch 31/80\n",
      "250/250 [==============================] - 1s 6ms/step - loss: 0.4058 - accuracy: 0.8425\n",
      "Epoch 32/80\n",
      "250/250 [==============================] - 2s 9ms/step - loss: 0.4062 - accuracy: 0.8397\n",
      "Epoch 33/80\n",
      "250/250 [==============================] - 2s 7ms/step - loss: 0.4060 - accuracy: 0.8415\n",
      "Epoch 34/80\n",
      "250/250 [==============================] - 2s 7ms/step - loss: 0.4054 - accuracy: 0.8395\n",
      "Epoch 35/80\n",
      "250/250 [==============================] - 2s 7ms/step - loss: 0.4053 - accuracy: 0.8415\n",
      "Epoch 36/80\n",
      "250/250 [==============================] - 2s 9ms/step - loss: 0.4054 - accuracy: 0.8405\n",
      "Epoch 37/80\n",
      "250/250 [==============================] - 2s 7ms/step - loss: 0.4055 - accuracy: 0.8394\n",
      "Epoch 38/80\n",
      "250/250 [==============================] - 2s 7ms/step - loss: 0.4051 - accuracy: 0.8415\n",
      "Epoch 39/80\n",
      "250/250 [==============================] - 2s 8ms/step - loss: 0.4051 - accuracy: 0.8405\n",
      "Epoch 40/80\n",
      "250/250 [==============================] - 2s 7ms/step - loss: 0.4055 - accuracy: 0.8406\n",
      "Epoch 41/80\n",
      "250/250 [==============================] - 2s 7ms/step - loss: 0.4053 - accuracy: 0.8403\n",
      "Epoch 42/80\n",
      "250/250 [==============================] - 2s 8ms/step - loss: 0.4048 - accuracy: 0.8410\n",
      "Epoch 43/80\n",
      "250/250 [==============================] - 2s 8ms/step - loss: 0.4049 - accuracy: 0.8410\n",
      "Epoch 44/80\n",
      "250/250 [==============================] - 2s 6ms/step - loss: 0.4047 - accuracy: 0.8406\n",
      "Epoch 45/80\n",
      "250/250 [==============================] - 2s 9ms/step - loss: 0.4045 - accuracy: 0.8424\n",
      "Epoch 46/80\n",
      "250/250 [==============================] - 2s 7ms/step - loss: 0.4044 - accuracy: 0.8407\n",
      "Epoch 47/80\n",
      "250/250 [==============================] - 2s 9ms/step - loss: 0.4042 - accuracy: 0.8418\n",
      "Epoch 48/80\n",
      "250/250 [==============================] - 2s 6ms/step - loss: 0.4045 - accuracy: 0.8404\n",
      "Epoch 49/80\n",
      "250/250 [==============================] - 2s 7ms/step - loss: 0.4041 - accuracy: 0.8397\n",
      "Epoch 50/80\n",
      "250/250 [==============================] - 1s 5ms/step - loss: 0.4043 - accuracy: 0.8405\n",
      "Epoch 51/80\n",
      "250/250 [==============================] - 1s 5ms/step - loss: 0.4038 - accuracy: 0.8422\n",
      "Epoch 52/80\n",
      "250/250 [==============================] - 1s 6ms/step - loss: 0.4033 - accuracy: 0.8429\n",
      "Epoch 53/80\n",
      "250/250 [==============================] - 2s 7ms/step - loss: 0.4046 - accuracy: 0.8413\n",
      "Epoch 54/80\n",
      "250/250 [==============================] - 1s 5ms/step - loss: 0.4039 - accuracy: 0.8411\n",
      "Epoch 55/80\n",
      "250/250 [==============================] - 1s 4ms/step - loss: 0.4038 - accuracy: 0.8406\n",
      "Epoch 56/80\n",
      "250/250 [==============================] - 1s 4ms/step - loss: 0.4039 - accuracy: 0.8419\n",
      "Epoch 57/80\n",
      "250/250 [==============================] - 1s 3ms/step - loss: 0.4035 - accuracy: 0.8425\n",
      "Epoch 58/80\n",
      "250/250 [==============================] - 1s 4ms/step - loss: 0.4032 - accuracy: 0.8411\n",
      "Epoch 59/80\n",
      "250/250 [==============================] - 1s 4ms/step - loss: 0.4035 - accuracy: 0.8413\n",
      "Epoch 60/80\n",
      "250/250 [==============================] - 2s 7ms/step - loss: 0.4033 - accuracy: 0.8414\n",
      "Epoch 61/80\n",
      "250/250 [==============================] - 2s 8ms/step - loss: 0.4034 - accuracy: 0.8418\n",
      "Epoch 62/80\n",
      "250/250 [==============================] - 2s 8ms/step - loss: 0.4038 - accuracy: 0.8418\n",
      "Epoch 63/80\n",
      "250/250 [==============================] - 2s 8ms/step - loss: 0.4034 - accuracy: 0.8414\n",
      "Epoch 64/80\n",
      "250/250 [==============================] - 2s 7ms/step - loss: 0.4034 - accuracy: 0.8403\n",
      "Epoch 65/80\n",
      "250/250 [==============================] - 2s 6ms/step - loss: 0.4039 - accuracy: 0.8409\n",
      "Epoch 66/80\n",
      "250/250 [==============================] - 1s 6ms/step - loss: 0.4031 - accuracy: 0.8397\n",
      "Epoch 67/80\n",
      "250/250 [==============================] - 1s 5ms/step - loss: 0.4036 - accuracy: 0.8400\n",
      "Epoch 68/80\n",
      "250/250 [==============================] - 1s 4ms/step - loss: 0.4031 - accuracy: 0.8424\n",
      "Epoch 69/80\n",
      "250/250 [==============================] - 1s 4ms/step - loss: 0.4031 - accuracy: 0.8422\n",
      "Epoch 70/80\n",
      "250/250 [==============================] - 1s 4ms/step - loss: 0.4025 - accuracy: 0.8424\n",
      "Epoch 71/80\n",
      "250/250 [==============================] - 1s 4ms/step - loss: 0.4028 - accuracy: 0.8405\n",
      "Epoch 72/80\n",
      "250/250 [==============================] - 1s 4ms/step - loss: 0.4032 - accuracy: 0.8418\n",
      "Epoch 73/80\n",
      "250/250 [==============================] - 1s 4ms/step - loss: 0.4030 - accuracy: 0.8419\n",
      "Epoch 74/80\n",
      "250/250 [==============================] - 1s 3ms/step - loss: 0.4026 - accuracy: 0.8439\n",
      "Epoch 75/80\n",
      "250/250 [==============================] - 1s 4ms/step - loss: 0.4029 - accuracy: 0.8404\n",
      "Epoch 76/80\n",
      "250/250 [==============================] - 1s 3ms/step - loss: 0.4027 - accuracy: 0.8429\n",
      "Epoch 77/80\n",
      "250/250 [==============================] - 1s 5ms/step - loss: 0.4028 - accuracy: 0.8429\n",
      "Epoch 78/80\n",
      "250/250 [==============================] - 1s 5ms/step - loss: 0.4026 - accuracy: 0.8407\n",
      "Epoch 79/80\n",
      "250/250 [==============================] - 1s 5ms/step - loss: 0.4026 - accuracy: 0.8418\n",
      "Epoch 80/80\n",
      "250/250 [==============================] - 2s 7ms/step - loss: 0.4019 - accuracy: 0.8419\n"
     ]
    },
    {
     "data": {
      "text/plain": [
       "<tensorflow.python.keras.callbacks.History at 0x7f8960093dc0>"
      ]
     },
     "execution_count": 44,
     "metadata": {},
     "output_type": "execute_result"
    }
   ],
   "source": [
    "model.fit(X_train,y_train,epochs = 80,batch_size = 32)"
   ]
  },
  {
   "cell_type": "markdown",
   "metadata": {
    "colab_type": "text",
    "id": "tJj5k2MxZga3"
   },
   "source": [
    "## Part 4 - Making the predictions and evaluating the model"
   ]
  },
  {
   "cell_type": "markdown",
   "metadata": {
    "colab_type": "text",
    "id": "84QFoqGYeXHL"
   },
   "source": [
    "### Predicting the result of a single observation"
   ]
  },
  {
   "cell_type": "markdown",
   "metadata": {
    "colab_type": "text",
    "id": "CGRo3eacgDdC"
   },
   "source": [
    "**Homework**\n",
    "\n",
    "Use our ANN model to predict if the customer with the following informations will leave the bank: \n",
    "\n",
    "Geography: France\n",
    "\n",
    "Credit Score: 600\n",
    "\n",
    "Gender: Male\n",
    "\n",
    "Age: 40 years old\n",
    "\n",
    "Tenure: 3 years\n",
    "\n",
    "Balance: \\$ 60000\n",
    "\n",
    "Number of Products: 2\n",
    "\n",
    "Does this customer have a credit card ? Yes\n",
    "\n",
    "Is this customer an Active Member: Yes\n",
    "\n",
    "Estimated Salary: \\$ 50000\n",
    "\n",
    "So, should we say goodbye to that customer ?"
   ]
  },
  {
   "cell_type": "markdown",
   "metadata": {
    "colab_type": "text",
    "id": "ZhU1LTgPg-kH"
   },
   "source": [
    "**Solution**"
   ]
  },
  {
   "cell_type": "code",
   "execution_count": 50,
   "metadata": {},
   "outputs": [
    {
     "data": {
      "text/plain": [
       "array([[ 1.04501206, -0.61433742, -0.57427105, -0.52978695, -1.11339196,\n",
       "         0.07611425, -0.739106  , -0.29407315,  0.80136281,  0.66011376,\n",
       "         0.97628121, -0.86697328]])"
      ]
     },
     "execution_count": 50,
     "metadata": {},
     "output_type": "execute_result"
    }
   ],
   "source": [
    "sc.transform([[1,0,0,600,0,40,3,60000,2,1,1,50000]])"
   ]
  },
  {
   "cell_type": "code",
   "execution_count": 52,
   "metadata": {},
   "outputs": [
    {
     "data": {
      "text/plain": [
       "array([[False]])"
      ]
     },
     "execution_count": 52,
     "metadata": {},
     "output_type": "execute_result"
    }
   ],
   "source": [
    "model.predict(sc.transform([[1,0,0,600,0,40,3,60000,2,1,1,50000]]))>0.5"
   ]
  },
  {
   "cell_type": "markdown",
   "metadata": {
    "colab_type": "text",
    "id": "wGjx94g2n7OV"
   },
   "source": [
    "Therefore, our ANN model predicts that this customer stays in the bank!\n",
    "\n",
    "**Important note 1:** Notice that the values of the features were all input in a double pair of square brackets. That's because the \"predict\" method always expects a 2D array as the format of its inputs. And putting our values into a double pair of square brackets makes the input exactly a 2D array.\n",
    "\n",
    "**Important note 2:** Notice also that the \"France\" country was not input as a string in the last column but as \"1, 0, 0\" in the first three columns. That's because of course the predict method expects the one-hot-encoded values of the state, and as we see in the first row of the matrix of features X, \"France\" was encoded as \"1, 0, 0\". And be careful to include these values in the first three columns, because the dummy variables are always created in the first columns."
   ]
  },
  {
   "cell_type": "markdown",
   "metadata": {
    "colab_type": "text",
    "id": "u7yx47jPZt11"
   },
   "source": [
    "### Predicting the Test set results"
   ]
  },
  {
   "cell_type": "code",
   "execution_count": 55,
   "metadata": {},
   "outputs": [],
   "source": [
    "y_pred = model.predict(X_test)"
   ]
  },
  {
   "cell_type": "code",
   "execution_count": 56,
   "metadata": {},
   "outputs": [],
   "source": [
    "y_pred = (y_pred > 0.5)"
   ]
  },
  {
   "cell_type": "code",
   "execution_count": 60,
   "metadata": {},
   "outputs": [
    {
     "data": {
      "text/plain": [
       "array([[False],\n",
       "       [False],\n",
       "       [False],\n",
       "       ...,\n",
       "       [False],\n",
       "       [False],\n",
       "       [False]])"
      ]
     },
     "execution_count": 60,
     "metadata": {},
     "output_type": "execute_result"
    }
   ],
   "source": [
    "y_pred"
   ]
  },
  {
   "cell_type": "code",
   "execution_count": 62,
   "metadata": {},
   "outputs": [],
   "source": [
    "y_test = (y_test>0.5)"
   ]
  },
  {
   "cell_type": "code",
   "execution_count": 63,
   "metadata": {},
   "outputs": [
    {
     "data": {
      "text/plain": [
       "array([[False],\n",
       "       [False],\n",
       "       [False],\n",
       "       ...,\n",
       "       [False],\n",
       "       [False],\n",
       "       [False]])"
      ]
     },
     "execution_count": 63,
     "metadata": {},
     "output_type": "execute_result"
    }
   ],
   "source": [
    "y_pred"
   ]
  },
  {
   "cell_type": "code",
   "execution_count": 64,
   "metadata": {},
   "outputs": [
    {
     "data": {
      "text/plain": [
       "array([False,  True, False, ..., False, False, False])"
      ]
     },
     "execution_count": 64,
     "metadata": {},
     "output_type": "execute_result"
    }
   ],
   "source": [
    "y_test"
   ]
  },
  {
   "cell_type": "markdown",
   "metadata": {
    "colab_type": "text",
    "id": "o0oyfLWoaEGw"
   },
   "source": [
    "### Making the Confusion Matrix"
   ]
  },
  {
   "cell_type": "code",
   "execution_count": 65,
   "metadata": {},
   "outputs": [],
   "source": [
    "from sklearn.metrics import confusion_matrix, accuracy_score\n",
    "cm = confusion_matrix(y_test,y_pred)"
   ]
  },
  {
   "cell_type": "code",
   "execution_count": 66,
   "metadata": {},
   "outputs": [
    {
     "data": {
      "text/plain": [
       "array([[1549,   46],\n",
       "       [ 278,  127]])"
      ]
     },
     "execution_count": 66,
     "metadata": {},
     "output_type": "execute_result"
    }
   ],
   "source": [
    "cm"
   ]
  },
  {
   "cell_type": "code",
   "execution_count": 67,
   "metadata": {},
   "outputs": [
    {
     "data": {
      "text/plain": [
       "0.838"
      ]
     },
     "execution_count": 67,
     "metadata": {},
     "output_type": "execute_result"
    }
   ],
   "source": [
    "accuracy_score(y_test,y_pred)"
   ]
  }
 ],
 "metadata": {
  "colab": {
   "collapsed_sections": [],
   "name": "artificial_neural_network.ipynb",
   "provenance": [],
   "toc_visible": true
  },
  "kernelspec": {
   "display_name": "Python 3",
   "language": "python",
   "name": "python3"
  },
  "language_info": {
   "codemirror_mode": {
    "name": "ipython",
    "version": 3
   },
   "file_extension": ".py",
   "mimetype": "text/x-python",
   "name": "python",
   "nbconvert_exporter": "python",
   "pygments_lexer": "ipython3",
   "version": "3.8.3"
  }
 },
 "nbformat": 4,
 "nbformat_minor": 1
}
